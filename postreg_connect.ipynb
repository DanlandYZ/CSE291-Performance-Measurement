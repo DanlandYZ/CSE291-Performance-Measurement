{
 "cells": [
  {
   "cell_type": "code",
   "execution_count": 1,
   "metadata": {},
   "outputs": [
    {
     "name": "stdout",
     "output_type": "stream",
     "text": [
      "Collecting psycopg2\n",
      "  Downloading psycopg2-2.9.9-cp37-cp37m-win32.whl (1.0 MB)\n",
      "     ---------------------------------------- 1.0/1.0 MB 15.8 MB/s eta 0:00:00\n",
      "Installing collected packages: psycopg2\n",
      "Successfully installed psycopg2-2.9.9\n",
      "Note: you may need to restart the kernel to use updated packages.\n"
     ]
    },
    {
     "name": "stderr",
     "output_type": "stream",
     "text": [
      "\n",
      "[notice] A new release of pip is available: 23.1.2 -> 24.0\n",
      "[notice] To update, run: python.exe -m pip install --upgrade pip\n"
     ]
    }
   ],
   "source": [
    "pip install psycopg2"
   ]
  },
  {
   "cell_type": "code",
   "execution_count": 1,
   "metadata": {},
   "outputs": [],
   "source": [
    "import psycopg2\n",
    "from psycopg2 import sql\n",
    "import time\n",
    "import random\n",
    "from collections import defaultdict\n",
    "import concurrent.futures\n"
   ]
  },
  {
   "cell_type": "code",
   "execution_count": 10,
   "metadata": {},
   "outputs": [],
   "source": [
    "data_collection = defaultdict(list)"
   ]
  },
  {
   "cell_type": "markdown",
   "metadata": {},
   "source": [
    "# connection parameters"
   ]
  },
  {
   "cell_type": "code",
   "execution_count": 11,
   "metadata": {},
   "outputs": [],
   "source": [
    "host=\"ec2-54-185-241-47.us-west-2.compute.amazonaws.com\"  # Replace with your EC2 instance's public DNS\n",
    "port = \"5432\"\n",
    "dbname = \"mydatabase\"\n",
    "user = \"danlandy\"\n",
    "password = \"danlandy\"\n"
   ]
  },
  {
   "cell_type": "markdown",
   "metadata": {},
   "source": [
    "# drop tables"
   ]
  },
  {
   "cell_type": "code",
   "execution_count": 4,
   "metadata": {},
   "outputs": [
    {
     "name": "stdout",
     "output_type": "stream",
     "text": [
      "Connected to the database successfully\n",
      "Tables dropped successfully\n",
      "Connection closed\n"
     ]
    }
   ],
   "source": [
    "try:\n",
    "    # Connect to the PostgreSQL server and 'users' database\n",
    "    conn = psycopg2.connect(\n",
    "        host=host,\n",
    "        port=port,\n",
    "        dbname=dbname,\n",
    "        user=user,\n",
    "        password=password\n",
    "    )\n",
    "    print(\"Connected to the database successfully\")\n",
    "\n",
    "    # Create a cursor object\n",
    "    cur = conn.cursor()\n",
    "\n",
    "    # Define the SQL queries to drop the tables\n",
    "    drop_queries = [\n",
    "        \"DROP TABLE IF EXISTS users_items;\",\n",
    "        \"DROP TABLE IF EXISTS users;\",\n",
    "        \"DROP TABLE IF EXISTS items;\"\n",
    "    ]\n",
    "    \n",
    "    # Execute each drop query\n",
    "    for query in drop_queries:\n",
    "        cur.execute(query)\n",
    "    \n",
    "    # Commit the changes\n",
    "    conn.commit()\n",
    "    print(\"Tables dropped successfully\")\n",
    "\n",
    "    # Close the cursor and connection\n",
    "    cur.close()\n",
    "    conn.close()\n",
    "    print(\"Connection closed\")\n",
    "\n",
    "except Exception as e:\n",
    "    print(f\"Unable to connect to the database or drop tables: {e}\")\n"
   ]
  },
  {
   "cell_type": "markdown",
   "metadata": {},
   "source": [
    "# measure the time for connecting the database and time for fetch the version data"
   ]
  },
  {
   "cell_type": "code",
   "execution_count": 6,
   "metadata": {},
   "outputs": [],
   "source": [
    "def measure_connection_time(): \n",
    "    try:\n",
    "        # Capture the start time\n",
    "        start_time = time.time()\n",
    "\n",
    "        # Connect to the PostgreSQL server\n",
    "        conn = psycopg2.connect(\n",
    "            host=host,\n",
    "            port=port,\n",
    "            dbname=dbname,\n",
    "            user=user,\n",
    "            password=password\n",
    "        )\n",
    "\n",
    "        # Capture the end time\n",
    "        end_time = time.time()\n",
    "\n",
    "        # Calculate the connection duration\n",
    "        connection_time = end_time - start_time\n",
    "        print(f\"Time taken to connect to the database: {connection_time:.6f} seconds\")\n",
    "        data_collection['connection_time'].append(connection_time)\n",
    "        \n",
    "        # Create a cursor object\n",
    "        cur = conn.cursor()\n",
    "\n",
    "        # Execute a SQL query\n",
    "        start_time = time.time()\n",
    "        cur.execute(\"SELECT version();\")\n",
    "        result = cur.fetchone()\n",
    "        end_time = time.time()\n",
    "        version_fetch_time = end_time - start_time\n",
    "        \n",
    "        \n",
    "        print(f\"Time taken to fetch the version data : {version_fetch_time:.6f} seconds\")\n",
    "        \n",
    "        print(\"PostgreSQL version:\", result)\n",
    "\n",
    "        # Close the cursor and connection\n",
    "        cur.close()\n",
    "        conn.close()\n",
    "        print(\"Connection closed\")\n",
    "\n",
    "    except Exception as e:\n",
    "        print(f\"Unable to connect to the database: {e}\")\n"
   ]
  },
  {
   "cell_type": "markdown",
   "metadata": {},
   "source": [
    "# create users table"
   ]
  },
  {
   "cell_type": "code",
   "execution_count": 7,
   "metadata": {},
   "outputs": [],
   "source": [
    "def measure_creating_users_table():\n",
    "    try:\n",
    "        start_time_connection = time.time(); \n",
    "        # Connect to the PostgreSQL server and 'users' database\n",
    "        conn = psycopg2.connect(\n",
    "            host=host,\n",
    "            port=port,\n",
    "            dbname=dbname,\n",
    "            user=user,\n",
    "            password=password\n",
    "        )\n",
    "        \n",
    "        # Create a cursor object\n",
    "        cur = conn.cursor()\n",
    "\n",
    "        # Create the 'user_data' table\n",
    "        create_table_query = '''\n",
    "        CREATE TABLE users (\n",
    "            user_id serial  PRIMARY KEY,\n",
    "            first_name VARCHAR(50),\n",
    "            last_name VARCHAR(50)\n",
    "        );\n",
    "        '''\n",
    "        \n",
    "        start_time = time.time()\n",
    "        cur.execute(create_table_query)\n",
    "        conn.commit()\n",
    "        end_time = time.time()\n",
    "        \n",
    "        elapsed_time = end_time - start_time; \n",
    "        elapsed_time_2 = end_time - start_time_connection; \n",
    "        \n",
    "        data_collection['create_user_table'].append(elapsed_time_2)\n",
    "        data_collection['create_user_table'].append(elapsed_time)\n",
    "        \n",
    "        print(f\"Time taken to create users table and establishing connections : {elapsed_time_2:.6f} seconds\")\n",
    "        print(f\"Time taken to create users table with established connections : {elapsed_time:.6f} seconds\")\n",
    "            \n",
    "        print(\"Table 'users' created successfully\")\n",
    "\n",
    "        # Close the cursor and connection\n",
    "        cur.close()\n",
    "        conn.close()\n",
    "        print(\"Connection closed\")\n",
    "\n",
    "    except Exception as e:\n",
    "        print(f\"Unable to connect to the database or create table: {e}\")\n"
   ]
  },
  {
   "cell_type": "markdown",
   "metadata": {},
   "source": [
    "# create Items table"
   ]
  },
  {
   "cell_type": "code",
   "execution_count": 8,
   "metadata": {},
   "outputs": [],
   "source": [
    "def measure_create_items_table():\n",
    "    try:\n",
    "        start_time_connection = time.time() \n",
    "        # Connect to the PostgreSQL server and 'users' database\n",
    "        conn = psycopg2.connect(\n",
    "            host=host,\n",
    "            port=port,\n",
    "            dbname=dbname,\n",
    "            user=user,\n",
    "            password=password\n",
    "        )\n",
    "        print(\"Connected to the database successfully\")\n",
    "\n",
    "        # Create a cursor object\n",
    "        cur = conn.cursor()\n",
    "\n",
    "        # Create the 'items' table within the 'items' schema\n",
    "        create_table_query = '''\n",
    "        CREATE TABLE items (\n",
    "            item_id  serial PRIMARY KEY,\n",
    "            item_name VARCHAR(100)\n",
    "        );\n",
    "        '''\n",
    "        start_time = time.time()\n",
    "        cur.execute(create_table_query)\n",
    "        conn.commit()\n",
    "        \n",
    "        end_time = time.time()\n",
    "        elapsed_time = end_time - start_time; \n",
    "        elapsed_time_2 = end_time - start_time_connection; \n",
    "        \n",
    "        data_collection['create_item_table'].append(elapsed_time_2)\n",
    "        data_collection['create_item_table'].append(elapsed_time)\n",
    "        \n",
    "        print(f\"Time taken to create items table and establishing connections : {elapsed_time_2:.6f} seconds\")\n",
    "        print(f\"Time taken to create items table with established connections : {elapsed_time:.6f} seconds\")\n",
    "        \n",
    "        print(\"Table 'items' created successfully\")\n",
    "\n",
    "        # Close the cursor and connection\n",
    "        cur.close()\n",
    "        conn.close()\n",
    "        print(\"Connection closed\")\n",
    "\n",
    "    except Exception as e:\n",
    "        print(f\"Unable to connect to the database or create schema/table: {e}\")\n"
   ]
  },
  {
   "cell_type": "markdown",
   "metadata": {},
   "source": [
    "# create user-item table"
   ]
  },
  {
   "cell_type": "code",
   "execution_count": 9,
   "metadata": {},
   "outputs": [],
   "source": [
    "def measure_create_users_items_table():\n",
    "    try:\n",
    "        start_time_connection = time.time() \n",
    "        # Connect to the PostgreSQL server and 'users' database\n",
    "        conn = psycopg2.connect(\n",
    "            host=host,\n",
    "            port=port,\n",
    "            dbname=dbname,\n",
    "            user=user,\n",
    "            password=password\n",
    "        )\n",
    "        print(\"Connected to the database successfully\")\n",
    "\n",
    "        # Create a cursor object\n",
    "        cur = conn.cursor()\n",
    "\n",
    "        # Create the 'users_items' table\n",
    "        create_table_query = '''\n",
    "        CREATE TABLE users_items (\n",
    "            user_id INTEGER NOT NULL,\n",
    "            item_id INTEGER NOT NULL,\n",
    "            PRIMARY KEY (user_id, item_id),\n",
    "            FOREIGN KEY (user_id) REFERENCES users(user_id),\n",
    "            FOREIGN KEY (item_id) REFERENCES items(item_id)\n",
    "        );\n",
    "        '''\n",
    "        start_time = time.time()\n",
    "        cur.execute(create_table_query)\n",
    "        conn.commit()\n",
    "        \n",
    "        end_time = time.time()\n",
    "        elapsed_time = end_time - start_time; \n",
    "        elapsed_time_2 = end_time - start_time_connection; \n",
    "        data_collection['create_user_item_table'].append(elapsed_time_2)\n",
    "        data_collection['create_user_item_table'].append(elapsed_time)\n",
    "        \n",
    "        print(f\"Time taken to create users-items table and establishing connections : {elapsed_time_2:.6f} seconds\")\n",
    "        print(f\"Time taken to create users-items table with established connections : {elapsed_time:.6f} seconds\")\n",
    "        \n",
    "        print(\"Table 'users_items' created successfully\")\n",
    "\n",
    "        # Close the cursor and connection\n",
    "        cur.close()\n",
    "        conn.close()\n",
    "        print(\"Connection closed\")\n",
    "\n",
    "    except Exception as e:\n",
    "        print(f\"Unable to connect to the database or create table: {e}\")\n"
   ]
  },
  {
   "cell_type": "markdown",
   "metadata": {},
   "source": [
    "# insert users"
   ]
  },
  {
   "cell_type": "code",
   "execution_count": 14,
   "metadata": {},
   "outputs": [],
   "source": [
    "def measure_insert_users():\n",
    "    try:\n",
    "        # Insert values into the 'user_data' table\n",
    "        insert_query = '''\n",
    "        INSERT INTO users (first_name, last_name) VALUES (%s, %s);\n",
    "        '''\n",
    "        \n",
    "        values = [] \n",
    "        for i in range(1000): \n",
    "            values.append((f\"first_name_{i}\", f\"last_name_{i}\"))\n",
    "    \n",
    "        start_time_connection = time.time() \n",
    "        # Connect to the PostgreSQL server and 'users' database\n",
    "        conn = psycopg2.connect(\n",
    "            host=host,\n",
    "            port=port,\n",
    "            dbname=dbname,\n",
    "            user=user,\n",
    "            password=password\n",
    "        )\n",
    "        print(\"Connected to the database successfully\")\n",
    "\n",
    "        # Create a cursor object\n",
    "        cur = conn.cursor()\n",
    "        start_time = time.time()\n",
    "        for value in values:\n",
    "            cur.execute(insert_query, value)\n",
    "\n",
    "        conn.commit()\n",
    "        end_time = time.time()\n",
    "        elapsed_time = end_time - start_time; \n",
    "        elapsed_time_2 = end_time - start_time_connection; \n",
    "        \n",
    "        data_collection['insert_1000_users'].append(elapsed_time_2)\n",
    "        data_collection['insert_1000_users'].append(elapsed_time)\n",
    "        \n",
    "        print(f\"Time taken to insert users table and establishing connections : {elapsed_time_2:.6f} seconds\")\n",
    "        print(f\"Time taken to insert users table with established connections : {elapsed_time:.6f} seconds\")\n",
    "        \n",
    "        print(\"Values inserted successfully into users table\")\n",
    "\n",
    "        # Close the cursor and connection\n",
    "        cur.close()\n",
    "        conn.close()\n",
    "        print(\"Connection closed\")\n",
    "\n",
    "    except Exception as e:\n",
    "        print(f\"Unable to connect to the database or insert values: {e}\")\n"
   ]
  },
  {
   "cell_type": "markdown",
   "metadata": {},
   "source": [
    "# insert items\n"
   ]
  },
  {
   "cell_type": "code",
   "execution_count": 16,
   "metadata": {},
   "outputs": [],
   "source": [
    "# def measure_insert_items():\n",
    "#     try:\n",
    "#         # Insert values into the 'item_data' table\n",
    "#         insert_query = '''\n",
    "#         INSERT INTO items (item_name) VALUES (%s);\n",
    "#         '''\n",
    "#         item_values = []\n",
    "\n",
    "#         for i in range(1000):\n",
    "#             item_values.append((f\"item_name_{i}\",))\n",
    "        \n",
    "#         start_time_connection = time.time() \n",
    "#         # Connect to the PostgreSQL server and 'users' database\n",
    "#         conn = psycopg2.connect(\n",
    "#             host=host,\n",
    "#             port=port,\n",
    "#             dbname=dbname,\n",
    "#             user=user,\n",
    "#             password=password\n",
    "#         )\n",
    "#         print(\"Connected to the database successfully\")\n",
    "\n",
    "#         # Create a cursor object\n",
    "#         cur = conn.cursor()\n",
    "#         start_time = time.time()\n",
    "#         for value in item_values:\n",
    "#             cur.execute(insert_query, value)\n",
    "\n",
    "#         conn.commit()\n",
    "#         end_time = time.time()\n",
    "#         elapsed_time = end_time - start_time; \n",
    "#         elapsed_time_2 = end_time - start_time_connection; \n",
    "        \n",
    "#         data_collection['insert_1000_items'].append(elapsed_time_2)\n",
    "#         data_collection['insert_1000_items'].append(elapsed_time)\n",
    "        \n",
    "#         print(f\"Time taken to insert items table and establishing connections : {elapsed_time_2:.6f} seconds\")\n",
    "#         print(f\"Time taken to insert items table with established connections : {elapsed_time:.6f} seconds\")\n",
    "        \n",
    "#         print(\"Values inserted successfully into items table\")\n",
    "\n",
    "#         # Close the cursor and connection\n",
    "#         cur.close()\n",
    "#         conn.close()\n",
    "#         print(\"Connection closed\")\n",
    "\n",
    "#     except Exception as e:\n",
    "#         print(f\"Unable to connect to the database or insert values: {e}\")\n"
   ]
  },
  {
   "cell_type": "code",
   "execution_count": 18,
   "metadata": {},
   "outputs": [
    {
     "name": "stdout",
     "output_type": "stream",
     "text": [
      "Time taken to insert 1000 items: 25.387557 seconds\n"
     ]
    }
   ],
   "source": [
    "# Assuming data_collection is a dictionary with lists as values\n",
    "# data_collection = {'insert_1000_items': []}\n",
    "\n",
    "def insert_item(value):\n",
    "    try:\n",
    "        # Connect to the PostgreSQL server and 'users' database\n",
    "        conn = psycopg2.connect(\n",
    "            host=host,\n",
    "            port=port,\n",
    "            dbname=dbname,\n",
    "            user=user,\n",
    "            password=password\n",
    "        )\n",
    "        # Create a cursor object\n",
    "        cur = conn.cursor()\n",
    "        insert_query = '''\n",
    "        INSERT INTO items (item_name) VALUES (%s);\n",
    "        '''\n",
    "        cur.execute(insert_query, value)\n",
    "        conn.commit()\n",
    "        cur.close()\n",
    "        conn.close()\n",
    "    except Exception as e:\n",
    "        print(f\"Unable to connect to the database or insert values: {e}\")\n",
    "\n",
    "def measure_insert_items():\n",
    "    item_values = [(f\"item_name_{i}\",) for i in range(1000)]\n",
    "\n",
    "    start_time = time.time()\n",
    "    with concurrent.futures.ThreadPoolExecutor(max_workers=16) as executor:\n",
    "        executor.map(insert_item, item_values)\n",
    "    end_time = time.time()\n",
    "\n",
    "    elapsed_time = end_time - start_time\n",
    "\n",
    "    data_collection['insert_1000_items'].append(elapsed_time)\n",
    "\n",
    "    print(f\"Time taken to insert 1000 items: {elapsed_time:.6f} seconds\")\n",
    "\n",
    "# Call the function to measure insertion time\n",
    "measure_insert_items()\n"
   ]
  },
  {
   "cell_type": "markdown",
   "metadata": {},
   "source": [
    "# insert users-items"
   ]
  },
  {
   "cell_type": "code",
   "execution_count": 18,
   "metadata": {},
   "outputs": [],
   "source": [
    "def get_userid_itemid(): \n",
    "    try:\n",
    "        # Connect to the PostgreSQL server and 'users' database\n",
    "        conn = psycopg2.connect(\n",
    "            host=host,\n",
    "            port=port,\n",
    "            dbname=dbname,\n",
    "            user=user,\n",
    "            password=password\n",
    "        )\n",
    "        print(\"Connected to the  database successfully\")\n",
    "\n",
    "        # Create a cursor object\n",
    "        cur = conn.cursor()\n",
    "\n",
    "        # Retrieve all user IDs\n",
    "        cur.execute(\"SELECT user_id FROM users;\")\n",
    "        user_ids = [row[0] for row in cur.fetchall()]\n",
    "\n",
    "        # Retrieve all item IDs\n",
    "        cur.execute(\"SELECT item_id FROM items;\")\n",
    "        item_ids = [row[0] for row in cur.fetchall()]\n",
    "\n",
    "        # Close the cursor and connection\n",
    "        cur.close()\n",
    "        conn.close()\n",
    "        print(\"Connection closed\")\n",
    "        return user_ids, item_ids\n",
    "    \n",
    "    except Exception as e:\n",
    "        print(f\"Unable to connect to the database or insert relationships: {e}\")\n"
   ]
  },
  {
   "cell_type": "code",
   "execution_count": 19,
   "metadata": {},
   "outputs": [],
   "source": [
    "def measure_insert_user_items_table():\n",
    "    try:\n",
    "        user_ids, item_ids = get_userid_itemid()\n",
    "        # Insert relationships into 'users_items' table\n",
    "        insert_query = '''\n",
    "        INSERT INTO users_items (user_id, item_id) VALUES (%s, %s);\n",
    "        '''\n",
    "        \n",
    "        start_time_connection = time.time() \n",
    "        # Connect to the PostgreSQL server and 'users' database\n",
    "        conn = psycopg2.connect(\n",
    "            host=host,\n",
    "            port=port,\n",
    "            dbname=dbname,\n",
    "            user=user,\n",
    "            password=password\n",
    "        )\n",
    "        print(\"Connected to the  database successfully\")\n",
    "\n",
    "        # Create a cursor object\n",
    "        cur = conn.cursor()\n",
    "        \n",
    "        start_time = time.time()\n",
    "        for user_id in user_ids:\n",
    "            # Randomly select 5 items for each user\n",
    "            random_items = random.sample(item_ids, 5)\n",
    "            for item_id in random_items:\n",
    "                cur.execute(insert_query, (user_id, item_id))\n",
    "\n",
    "        conn.commit()\n",
    "        end_time = time.time()\n",
    "        elapsed_time = end_time - start_time; \n",
    "        elapsed_time_2 = end_time - start_time_connection; \n",
    "        \n",
    "        data_collection['insert_5_items_per_users'].append(elapsed_time_2)\n",
    "        data_collection['insert_5_items_per_users'].append(elapsed_time)\n",
    "        \n",
    "        print(f\"Time taken to insert user-items table and establishing connections : {elapsed_time_2:.6f} seconds\")\n",
    "        print(f\"Time taken to insert user-items table table with established connections : {elapsed_time:.6f} seconds\")\n",
    "        \n",
    "        print(\"Values inserted successfully into items table\")\n",
    "\n",
    "        print(\"Relationships inserted successfully into 'users_items' table\")\n",
    "\n",
    "        # Close the cursor and connection\n",
    "        cur.close()\n",
    "        conn.close()\n",
    "        print(\"Connection closed\")\n",
    "\n",
    "    except Exception as e:\n",
    "        print(f\"Unable to connect to the database or insert relationships: {e}\")\n"
   ]
  },
  {
   "cell_type": "markdown",
   "metadata": {},
   "source": [
    "# query with given firstname and lastname"
   ]
  },
  {
   "cell_type": "code",
   "execution_count": 21,
   "metadata": {},
   "outputs": [],
   "source": [
    "def measure_query():\n",
    "    # Given first name and last name\n",
    "    first_name = \"first_name_4\"  # Replace with the actual first name\n",
    "    last_name = \"last_name_4\"    # Replace with the actual last name\n",
    "\n",
    "    try:\n",
    "        # Define the SQL query\n",
    "        query = '''\n",
    "        SELECT i.item_name\n",
    "        FROM users u\n",
    "        JOIN users_items ui ON u.user_id = ui.user_id\n",
    "        JOIN items i ON ui.item_id = i.item_id\n",
    "        WHERE u.first_name = %s AND u.last_name = %s;\n",
    "        '''\n",
    "        start_time_connection = time.time() \n",
    "        # Connect to the PostgreSQL server and 'users' database\n",
    "        conn = psycopg2.connect(\n",
    "            host=host,\n",
    "            port=port,\n",
    "            dbname=dbname,\n",
    "            user=user,\n",
    "            password=password\n",
    "        )\n",
    "        print(\"Connected to the 'users' database successfully\")\n",
    "\n",
    "        # Create a cursor object\n",
    "        cur = conn.cursor()\n",
    "        \n",
    "        start_time = time.time()\n",
    "        # Execute the SQL query\n",
    "        cur.execute(query, (first_name, last_name))\n",
    "        \n",
    "        # Fetch and print the results\n",
    "        items = cur.fetchall()\n",
    "        \n",
    "        end_time = time.time()\n",
    "        elapsed_time = end_time - start_time; \n",
    "        elapsed_time_2 = end_time - start_time_connection; \n",
    "        data_collection['query_one_user'].append(elapsed_time_2)\n",
    "        data_collection['query_one_user'].append(elapsed_time)\n",
    "        \n",
    "        print(f\"Time taken to query table with three joins and establishing connections : {elapsed_time_2:.6f} seconds\")\n",
    "        print(f\"Time taken to query table with three joins with established connections : {elapsed_time:.6f} seconds\")\n",
    "        \n",
    "        \n",
    "        for item in items:\n",
    "            print(item[0])\n",
    "\n",
    "        # Close the cursor and connection\n",
    "        cur.close()\n",
    "        conn.close()\n",
    "        print(\"Connection closed\")\n",
    "\n",
    "    except Exception as e:\n",
    "        print(f\"Unable to connect to the database or execute query: {e}\")\n"
   ]
  },
  {
   "cell_type": "markdown",
   "metadata": {},
   "source": [
    "# measure time function calls"
   ]
  },
  {
   "cell_type": "code",
   "execution_count": 19,
   "metadata": {},
   "outputs": [
    {
     "name": "stdout",
     "output_type": "stream",
     "text": [
      "Time taken to connect to the database: 0.346120 seconds\n",
      "Time taken to fetch the version data : 0.077714 seconds\n",
      "PostgreSQL version: ('PostgreSQL 16.2 (Ubuntu 16.2-1ubuntu4) on x86_64-pc-linux-gnu, compiled by gcc (Ubuntu 13.2.0-23ubuntu3) 13.2.0, 64-bit',)\n",
      "Connection closed\n"
     ]
    }
   ],
   "source": [
    "measure_connection_time()"
   ]
  },
  {
   "cell_type": "code",
   "execution_count": 20,
   "metadata": {},
   "outputs": [
    {
     "name": "stdout",
     "output_type": "stream",
     "text": [
      "Time taken to create users table and establishing connections : 0.387311 seconds\n",
      "Time taken to create users table with established connections : 0.118016 seconds\n",
      "Table 'users' created successfully\n",
      "Connection closed\n"
     ]
    }
   ],
   "source": [
    "measure_creating_users_table()"
   ]
  },
  {
   "cell_type": "code",
   "execution_count": 21,
   "metadata": {},
   "outputs": [
    {
     "name": "stdout",
     "output_type": "stream",
     "text": [
      "Connected to the database successfully\n",
      "Time taken to create items table and establishing connections : 0.397959 seconds\n",
      "Time taken to create items table with established connections : 0.121450 seconds\n",
      "Table 'items' created successfully\n",
      "Connection closed\n"
     ]
    }
   ],
   "source": [
    "measure_create_items_table()"
   ]
  },
  {
   "cell_type": "code",
   "execution_count": 22,
   "metadata": {},
   "outputs": [
    {
     "name": "stdout",
     "output_type": "stream",
     "text": [
      "Connected to the database successfully\n",
      "Time taken to create users-items table and establishing connections : 0.408182 seconds\n",
      "Time taken to create users-items table with established connections : 0.124132 seconds\n",
      "Table 'users_items' created successfully\n",
      "Connection closed\n"
     ]
    }
   ],
   "source": [
    "measure_create_users_items_table()"
   ]
  },
  {
   "cell_type": "code",
   "execution_count": null,
   "metadata": {},
   "outputs": [
    {
     "name": "stdout",
     "output_type": "stream",
     "text": [
      "Connected to the 'users' database successfully\n",
      "Time taken to insert users table and establishing connections : 34.137690 seconds\n",
      "Time taken to insert users table with established connections : 33.860469 seconds\n",
      "Values inserted successfully into users table\n",
      "Connection closed\n"
     ]
    }
   ],
   "source": [
    "measure_insert_users()"
   ]
  },
  {
   "cell_type": "code",
   "execution_count": null,
   "metadata": {},
   "outputs": [
    {
     "name": "stdout",
     "output_type": "stream",
     "text": [
      "Connected to the database successfully\n",
      "Time taken to insert items table and establishing connections : 34.379728 seconds\n",
      "Time taken to insert items table with established connections : 34.091855 seconds\n",
      "Values inserted successfully into items table\n",
      "Connection closed\n"
     ]
    }
   ],
   "source": [
    "measure_insert_items()"
   ]
  },
  {
   "cell_type": "code",
   "execution_count": null,
   "metadata": {},
   "outputs": [
    {
     "name": "stdout",
     "output_type": "stream",
     "text": [
      "Connected to the  database successfully\n",
      "Connection closed\n",
      "Connected to the  database successfully\n",
      "Time taken to insert user-items table and establishing connections : 189.434933 seconds\n",
      "Time taken to insert user-items table table with established connections : 189.137250 seconds\n",
      "Values inserted successfully into items table\n",
      "Relationships inserted successfully into 'users_items' table\n",
      "Connection closed\n"
     ]
    }
   ],
   "source": [
    "measure_insert_user_items_table()"
   ]
  },
  {
   "cell_type": "code",
   "execution_count": 23,
   "metadata": {},
   "outputs": [
    {
     "ename": "NameError",
     "evalue": "name 'measure_query' is not defined",
     "output_type": "error",
     "traceback": [
      "\u001b[1;31m---------------------------------------------------------------------------\u001b[0m",
      "\u001b[1;31mNameError\u001b[0m                                 Traceback (most recent call last)",
      "\u001b[1;32m~\\AppData\\Local\\Temp\\ipykernel_22228\\2960284092.py\u001b[0m in \u001b[0;36m<module>\u001b[1;34m\u001b[0m\n\u001b[1;32m----> 1\u001b[1;33m \u001b[0mmeasure_query\u001b[0m\u001b[1;33m(\u001b[0m\u001b[1;33m)\u001b[0m\u001b[1;33m\u001b[0m\u001b[1;33m\u001b[0m\u001b[0m\n\u001b[0m",
      "\u001b[1;31mNameError\u001b[0m: name 'measure_query' is not defined"
     ]
    }
   ],
   "source": [
    "measure_query()"
   ]
  },
  {
   "cell_type": "code",
   "execution_count": null,
   "metadata": {},
   "outputs": [],
   "source": []
  }
 ],
 "metadata": {
  "kernelspec": {
   "display_name": "Python 3",
   "language": "python",
   "name": "python3"
  },
  "language_info": {
   "codemirror_mode": {
    "name": "ipython",
    "version": 3
   },
   "file_extension": ".py",
   "mimetype": "text/x-python",
   "name": "python",
   "nbconvert_exporter": "python",
   "pygments_lexer": "ipython3",
   "version": "3.7.7"
  }
 },
 "nbformat": 4,
 "nbformat_minor": 2
}
